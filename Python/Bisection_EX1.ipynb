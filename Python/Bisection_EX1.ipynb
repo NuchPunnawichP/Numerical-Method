{
 "cells": [
  {
   "cell_type": "code",
   "execution_count": 1,
   "metadata": {},
   "outputs": [],
   "source": [
    "import math"
   ]
  },
  {
   "cell_type": "code",
   "execution_count": 2,
   "metadata": {},
   "outputs": [],
   "source": [
    "# Initial Values\n",
    "l = 0.0\n",
    "r = 2.0\n",
    "x = (l + r) / 2\n",
    "\n",
    "X = math.exp(-x / 4) * (2 - x) - 1"
   ]
  },
  {
   "cell_type": "code",
   "execution_count": 3,
   "metadata": {},
   "outputs": [],
   "source": [
    "def Bis(x):\n",
    "    return math.exp(-x / 4) * (2 - x) - 1"
   ]
  },
  {
   "cell_type": "code",
   "execution_count": 4,
   "metadata": {},
   "outputs": [
    {
     "name": "stdout",
     "output_type": "stream",
     "text": [
      "1 0.5\n",
      "2 0.75\n",
      "3 0.875\n",
      "4 0.8125\n",
      "5 0.78125\n",
      "6 0.796875\n",
      "7 0.7890625\n",
      "8 0.78515625\n",
      "9 0.783203125\n",
      "10 0.7841796875\n",
      "11 0.78369140625\n",
      "12 0.783447265625\n",
      "13 0.7835693359375\n",
      "14 0.78363037109375\n",
      "15 0.783599853515625\n",
      "16 0.7835845947265625\n",
      "17 0.7835922241210938\n",
      "The answer is 0.7835922241210938\n"
     ]
    }
   ],
   "source": [
    "i = 1\n",
    "while True:\n",
    "    xx = x\n",
    "\n",
    "    if Bis(x) * Bis(r) > 0:\n",
    "        r = x\n",
    "    elif Bis(x) * Bis(r) < 0:\n",
    "        l = x\n",
    "    \n",
    "    x = (l + r) / 2\n",
    "\n",
    "    print(\"{} {}\" .format(i, x), end=\"\\n\")\n",
    "    i += 1\n",
    "\n",
    "    if abs( (x - xx) / x ) * 100 < 0.001:\n",
    "        break\n",
    "\n",
    "print(\"The answer is {}\" .format(x))"
   ]
  }
 ],
 "metadata": {
  "kernelspec": {
   "display_name": "Python 3",
   "language": "python",
   "name": "python3"
  },
  "language_info": {
   "codemirror_mode": {
    "name": "ipython",
    "version": 3
   },
   "file_extension": ".py",
   "mimetype": "text/x-python",
   "name": "python",
   "nbconvert_exporter": "python",
   "pygments_lexer": "ipython3",
   "version": "3.12.5"
  }
 },
 "nbformat": 4,
 "nbformat_minor": 2
}
