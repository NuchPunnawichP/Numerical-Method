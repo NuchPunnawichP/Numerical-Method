{
 "cells": [
  {
   "cell_type": "code",
   "execution_count": 1,
   "metadata": {},
   "outputs": [],
   "source": [
    "import math\n",
    "import numpy as np\n",
    "import sympy as sp"
   ]
  },
  {
   "cell_type": "code",
   "execution_count": 2,
   "metadata": {},
   "outputs": [],
   "source": [
    "# Initial Values\n",
    "x0 = 1"
   ]
  },
  {
   "cell_type": "code",
   "execution_count": 3,
   "metadata": {},
   "outputs": [],
   "source": [
    "# Define symbol variable\n",
    "x = sp.Symbol('x')"
   ]
  },
  {
   "cell_type": "code",
   "execution_count": 4,
   "metadata": {},
   "outputs": [],
   "source": [
    "def fn(x):\n",
    "    return sp.exp(-x / 4) * (2 - x) - 1\n",
    "\n",
    "def dx(x):\n",
    "    return sp.diff(fn(x), x)"
   ]
  },
  {
   "cell_type": "code",
   "execution_count": 5,
   "metadata": {},
   "outputs": [],
   "source": [
    "def np(x0):\n",
    "    f = sp.lambdify(x, fn(x), \"numpy\")\n",
    "    df = sp.lambdify(x, dx(x), \"numpy\")\n",
    "    \n",
    "    f_x0 = f(x0)\n",
    "    df_x0 = df(x0)\n",
    "\n",
    "    if abs(df_x0) < 1e-9:\n",
    "        return \"Divergence\"\n",
    "\n",
    "    xx = x0 - (f_x0 / df_x0)\n",
    "\n",
    "    if abs((xx - x0) / xx) * 100 < 0.001:\n",
    "        return xx\n",
    "    return np(xx)"
   ]
  },
  {
   "cell_type": "code",
   "execution_count": 6,
   "metadata": {},
   "outputs": [
    {
     "name": "stdout",
     "output_type": "stream",
     "text": [
      "The answer is 0.7835959675473265\n"
     ]
    }
   ],
   "source": [
    "print(\"The answer is {}\" .format(np(x0)))"
   ]
  }
 ],
 "metadata": {
  "kernelspec": {
   "display_name": "Python 3",
   "language": "python",
   "name": "python3"
  },
  "language_info": {
   "codemirror_mode": {
    "name": "ipython",
    "version": 3
   },
   "file_extension": ".py",
   "mimetype": "text/x-python",
   "name": "python",
   "nbconvert_exporter": "python",
   "pygments_lexer": "ipython3",
   "version": "3.12.5"
  }
 },
 "nbformat": 4,
 "nbformat_minor": 2
}
