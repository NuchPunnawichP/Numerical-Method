{
 "cells": [
  {
   "cell_type": "code",
   "execution_count": 1,
   "metadata": {},
   "outputs": [],
   "source": [
    "import math"
   ]
  },
  {
   "cell_type": "code",
   "execution_count": 2,
   "metadata": {},
   "outputs": [],
   "source": [
    "# Initial Values\n",
    "l = 0.5\n",
    "r = 1.5\n",
    "x = (l + r) / 2"
   ]
  },
  {
   "cell_type": "code",
   "execution_count": 3,
   "metadata": {},
   "outputs": [],
   "source": [
    "def Bis(x):\n",
    "    return 2 - x * (math.tan(x) - math.tanh(x))"
   ]
  },
  {
   "cell_type": "code",
   "execution_count": 4,
   "metadata": {},
   "outputs": [
    {
     "name": "stdout",
     "output_type": "stream",
     "text": [
      "1 1.25\n",
      "2 1.125\n",
      "3 1.1875\n",
      "4 1.21875\n",
      "5 1.203125\n",
      "6 1.1953125\n",
      "7 1.19140625\n",
      "8 1.193359375\n",
      "9 1.1923828125\n",
      "10 1.19189453125\n",
      "The answer is 1.19189453125\n"
     ]
    }
   ],
   "source": [
    "i = 1\n",
    "while True:\n",
    "    xx = x\n",
    "\n",
    "    if Bis(x) * Bis(r) > 0:\n",
    "        r = x\n",
    "    elif Bis(x) * Bis(r) < 0:\n",
    "        l = x\n",
    "    \n",
    "    x = (l + r) / 2\n",
    "\n",
    "    print(\"{} {}\" .format(i, x))\n",
    "    i += 1\n",
    "    \n",
    "    if abs( (x - xx) / x ) * 100 < 0.05:\n",
    "        break\n",
    "\n",
    "print(\"The answer is {}\" .format(x))"
   ]
  }
 ],
 "metadata": {
  "kernelspec": {
   "display_name": "Python 3",
   "language": "python",
   "name": "python3"
  },
  "language_info": {
   "codemirror_mode": {
    "name": "ipython",
    "version": 3
   },
   "file_extension": ".py",
   "mimetype": "text/x-python",
   "name": "python",
   "nbconvert_exporter": "python",
   "pygments_lexer": "ipython3",
   "version": "3.12.5"
  }
 },
 "nbformat": 4,
 "nbformat_minor": 2
}
